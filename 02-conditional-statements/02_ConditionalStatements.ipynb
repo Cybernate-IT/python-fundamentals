{
 "cells": [
  {
   "cell_type": "markdown",
   "id": "d4c1f4e6-bdd2-4c99-962b-1e479ca5331b",
   "metadata": {},
   "source": [
    "## Topics Covered\n",
    "\n",
    "- `if`, `else`, `elif` condition\n",
    "- Comparison Operators\n",
    "- Ternary conditional Expression\n",
    "- Practice Questions\n",
    "    - Grade Checker\n",
    "    - Number Comparison\n",
    "    - Temperature Convertor\n",
    "    - Simple Guessing Game\n",
    "    - Voting Eligibility "
   ]
  },
  {
   "cell_type": "markdown",
   "id": "351ac1fd-3a0d-4325-9560-4cd112473b23",
   "metadata": {},
   "source": [
    "### `if`, `else`, `elif` conditions"
   ]
  },
  {
   "cell_type": "markdown",
   "id": "d632d04d-5a69-4133-9a16-d25a76b81b07",
   "metadata": {},
   "source": [
    "In Python, we use `if`, `else`, and `elif` to create conditional statements that allow our programs to make decisions based on certain conditions."
   ]
  },
  {
   "cell_type": "code",
   "execution_count": null,
   "id": "9b6e93f9-77d6-4f6a-aa46-463898d9859a",
   "metadata": {},
   "outputs": [],
   "source": [
    "age = 15\n",
    "\n",
    "if age < 18:\n",
    "    print(\"You're a teenager!\")\n",
    "elif age == 18:\n",
    "    print(\"You just turned 18!\")\n",
    "else:\n",
    "    print(\"You're an adult now!\")\n"
   ]
  },
  {
   "cell_type": "code",
   "execution_count": null,
   "id": "e0798c3a-ff2e-4372-8261-996f97679f04",
   "metadata": {},
   "outputs": [],
   "source": []
  },
  {
   "cell_type": "code",
   "execution_count": null,
   "id": "75276d63-0edc-4909-949e-b9727e94d2c6",
   "metadata": {},
   "outputs": [],
   "source": []
  },
  {
   "cell_type": "code",
   "execution_count": null,
   "id": "d6675ee9-36e2-48e7-a7ba-380e801f9fbc",
   "metadata": {},
   "outputs": [],
   "source": []
  },
  {
   "cell_type": "markdown",
   "id": "d09e6593-f471-44c7-adfe-b92f94f5d8ad",
   "metadata": {},
   "source": [
    "In this example, the program checks the value of the variable age. If **age** is **less than 18**, it prints *\"You're a teenager!\"*. If **age** is **exactly 18**, it prints *\"You just turned 18!\"*. If **neither of these conditions is met**, it prints *\"You're an adult now!\"*. This way, the program can adapt its behavior based on the input it receives. The if statement starts the conditional, elif adds additional conditions and else covers all other cases."
   ]
  },
  {
   "cell_type": "markdown",
   "id": "68972cfa-6aaa-4a8f-82cd-c4ae091a6f3e",
   "metadata": {},
   "source": [
    "### Comparison Operators In Python"
   ]
  },
  {
   "cell_type": "markdown",
   "id": "e515353c-4170-4e57-9536-43c24c818a0f",
   "metadata": {},
   "source": [
    "**Comparison operators** in Python are used to compare values and determine the relationship between them. These operators evaluate conditions and return boolean values (`True` or `False`). They are fundamental tools for making decisions and controlling the flow of your program based on various situations."
   ]
  },
  {
   "cell_type": "markdown",
   "id": "5ebea219-94ad-4955-9c0e-580073d93ffb",
   "metadata": {},
   "source": [
    "1. **Equal to** (`==`): Checks if two values are equal."
   ]
  },
  {
   "cell_type": "code",
   "execution_count": null,
   "id": "f8047b1f-258e-4f8b-a6be-da7669194b2b",
   "metadata": {},
   "outputs": [],
   "source": [
    "age = 25\n",
    "is_equal = age == 25  # True\n"
   ]
  },
  {
   "cell_type": "code",
   "execution_count": null,
   "id": "76da0c3c-b270-4ad7-b069-5a7334d4b4ae",
   "metadata": {},
   "outputs": [],
   "source": []
  },
  {
   "cell_type": "code",
   "execution_count": null,
   "id": "11dc3f6c-5ada-4e58-9442-5415dbc0f914",
   "metadata": {},
   "outputs": [],
   "source": []
  },
  {
   "cell_type": "code",
   "execution_count": null,
   "id": "7f38e41a-13f1-4b69-9545-95e9dc0d818d",
   "metadata": {},
   "outputs": [],
   "source": []
  },
  {
   "cell_type": "markdown",
   "id": "021cd28d-fe33-4b34-a55e-e48d9c94500a",
   "metadata": {},
   "source": [
    "2. **Not equal to** (`!=`): Checks if two values are not equal."
   ]
  },
  {
   "cell_type": "code",
   "execution_count": null,
   "id": "334b3c40-a438-49c0-8cc0-657140d311b2",
   "metadata": {},
   "outputs": [],
   "source": [
    "temperature = 32\n",
    "is_not_equal = temperature != 25  # True\n"
   ]
  },
  {
   "cell_type": "code",
   "execution_count": null,
   "id": "acb40be5-6b25-40a3-bf0c-636103df1fc7",
   "metadata": {},
   "outputs": [],
   "source": []
  },
  {
   "cell_type": "code",
   "execution_count": null,
   "id": "e8044c8d-68c8-41ed-913d-cb4020fdbba8",
   "metadata": {},
   "outputs": [],
   "source": []
  },
  {
   "cell_type": "code",
   "execution_count": null,
   "id": "6655dceb-1357-4fee-95b9-5dc4311ea9fd",
   "metadata": {},
   "outputs": [],
   "source": []
  },
  {
   "cell_type": "markdown",
   "id": "b22d4b21-884a-4b0e-aa93-28969b00f2fb",
   "metadata": {},
   "source": [
    "3. **Greater than** (`>`): Checks if the left value is greater than the right value."
   ]
  },
  {
   "cell_type": "code",
   "execution_count": null,
   "id": "2abbd2f7-8468-4d86-bafe-a43bf45cd75d",
   "metadata": {},
   "outputs": [],
   "source": [
    "score = 85\n",
    "is_greater = score > 90  # False\n"
   ]
  },
  {
   "cell_type": "code",
   "execution_count": null,
   "id": "0b8a772d-2641-477e-a1aa-dc90bd695e8b",
   "metadata": {},
   "outputs": [],
   "source": []
  },
  {
   "cell_type": "code",
   "execution_count": null,
   "id": "0e1d72b5-3874-4932-ba5b-0cdf59547bd8",
   "metadata": {},
   "outputs": [],
   "source": []
  },
  {
   "cell_type": "code",
   "execution_count": null,
   "id": "aedf3564-a006-41d9-b798-e1ff06ba9474",
   "metadata": {},
   "outputs": [],
   "source": []
  },
  {
   "cell_type": "markdown",
   "id": "28a9a7f5-8685-4d71-9eab-786c27f27451",
   "metadata": {},
   "source": [
    "4. **Less than** (`<`): Checks if the left value is less than the right value."
   ]
  },
  {
   "cell_type": "code",
   "execution_count": null,
   "id": "7c8aa873-19a7-4a48-b938-5b65fc3daa6b",
   "metadata": {},
   "outputs": [],
   "source": [
    "price = 25\n",
    "is_less = price < 50  # True\n"
   ]
  },
  {
   "cell_type": "code",
   "execution_count": null,
   "id": "f1f3a849-d4f6-439f-87be-a4a466da1ca2",
   "metadata": {},
   "outputs": [],
   "source": []
  },
  {
   "cell_type": "code",
   "execution_count": null,
   "id": "dc047b25-c29f-4e87-b0ce-accf7481e180",
   "metadata": {},
   "outputs": [],
   "source": []
  },
  {
   "cell_type": "code",
   "execution_count": null,
   "id": "359899b7-d4e8-436e-8381-3bd0c5785f7b",
   "metadata": {},
   "outputs": [],
   "source": []
  },
  {
   "cell_type": "markdown",
   "id": "88a84bc3-8960-4e52-97d8-afd75973a542",
   "metadata": {},
   "source": [
    "5. **Greater than or equal to** (`>=`): Checks if the left value is greater than or equal to the right value."
   ]
  },
  {
   "cell_type": "code",
   "execution_count": null,
   "id": "3a15b0c4-a507-41ef-b382-e47c62f3789c",
   "metadata": {},
   "outputs": [],
   "source": [
    "quantity = 100\n",
    "is_greater_equal = quantity >= 50  # True\n"
   ]
  },
  {
   "cell_type": "code",
   "execution_count": null,
   "id": "14a44a83-4cf1-47a1-ad22-87666be03a67",
   "metadata": {},
   "outputs": [],
   "source": []
  },
  {
   "cell_type": "code",
   "execution_count": null,
   "id": "34e25e3c-4b1d-4137-8dc9-d64bd0b06819",
   "metadata": {},
   "outputs": [],
   "source": []
  },
  {
   "cell_type": "markdown",
   "id": "b73d75a9-b369-4438-b2a4-7ae019957fcc",
   "metadata": {},
   "source": [
    "6. **Less than or equal to** (`<=`): Checks if the left value is less than or equal to the right value."
   ]
  },
  {
   "cell_type": "code",
   "execution_count": null,
   "id": "25f4a9ae-aacd-4704-b0dd-b4b8c8975dd3",
   "metadata": {},
   "outputs": [],
   "source": [
    "speed = 60\n",
    "is_less_equal = speed <= 65  # True\n"
   ]
  },
  {
   "cell_type": "code",
   "execution_count": null,
   "id": "24d0aa6c-a152-40ae-b966-84a5c0153cc7",
   "metadata": {},
   "outputs": [],
   "source": []
  },
  {
   "cell_type": "code",
   "execution_count": null,
   "id": "b8bc0c45-18a6-4c93-9c4d-aa5480dc0e17",
   "metadata": {},
   "outputs": [],
   "source": []
  },
  {
   "cell_type": "markdown",
   "id": "0ef978e2-418e-45da-8066-1069897d912a",
   "metadata": {},
   "source": [
    "These **comparison operators** are used to create conditions in your code. When you use them in combination with conditional statements like `if`, `else`, and `elif`, you can make your program respond dynamically to different situations. For instance, you can check if a value is within a certain range, compare user inputs, or validate conditions for decision-making processes. Comparison operators empower your program to act intelligently based on the data it encounters.\r\n",
    "\r\n",
    "\r\n"
   ]
  },
  {
   "cell_type": "markdown",
   "id": "ed13a0fd-25de-4b5a-a057-9b301bcc7288",
   "metadata": {},
   "source": [
    "### Ternary Operator in Python"
   ]
  },
  {
   "cell_type": "markdown",
   "id": "2cb3f1d2-5101-4c7a-9013-49908624303f",
   "metadata": {},
   "source": [
    "Python offers a concise way to make quick decisions using the ternary conditional expression. It allows you to write a compact `if-else` statement in a single line, making your code more streamlined and readable."
   ]
  },
  {
   "cell_type": "markdown",
   "id": "4e87ee21-61ac-445f-b07c-b4645cd5d40c",
   "metadata": {},
   "source": [
    "`result = value_if_true if condition else value_if_false`\n"
   ]
  },
  {
   "cell_type": "code",
   "execution_count": null,
   "id": "af412f86-30b3-4076-9eff-42ffe88e6bf7",
   "metadata": {},
   "outputs": [],
   "source": [
    "age = 18\n",
    "status = \"adult\" if age >= 18 else \"minor\"\n",
    "print(\"Status:\", status)"
   ]
  },
  {
   "cell_type": "code",
   "execution_count": null,
   "id": "8db77ef8-9c94-4fb0-83be-280f0e23b405",
   "metadata": {},
   "outputs": [],
   "source": []
  },
  {
   "cell_type": "code",
   "execution_count": null,
   "id": "2f483aba-f907-49e5-adf3-1f46349b5085",
   "metadata": {},
   "outputs": [],
   "source": []
  },
  {
   "cell_type": "code",
   "execution_count": null,
   "id": "9f870bda-df51-49c1-a6ae-30713f9d389b",
   "metadata": {},
   "outputs": [],
   "source": []
  },
  {
   "cell_type": "markdown",
   "id": "8a98e5d5-d196-4d99-8196-d15fd40a6464",
   "metadata": {},
   "source": [
    "In this example, the **ternary conditional expression** evaluates whether **age** is **greater than or equal to 18**. If the condition is `True`, it assigns **\"adult\"** to status; otherwise, it assigns **\"minor\"**. The output will be Status: **adult**, since the value of age is 18.\n",
    "\n",
    "The ternary expression can be a handy tool when you need to assign a value to a variable based on a simple condition without writing a full `if-else` block. However, for more complex logic, using regular `if-else` statements is often clearer for understanding and maintaining your code."
   ]
  },
  {
   "cell_type": "markdown",
   "id": "2ad5b9b0-04a9-4464-8232-747c55d982b3",
   "metadata": {},
   "source": [
    "## Practice Questions"
   ]
  },
  {
   "cell_type": "markdown",
   "id": "42a6872e-5320-4526-b472-7fc46ccfd0fb",
   "metadata": {},
   "source": [
    "**1. Grade Checker**\n",
    "\n",
    "Write a program that takes a student's score as input and prints out their corresponding letter grade (A, B, C, etc.). Use if-else statements to determine the grade based on predefined score ranges."
   ]
  },
  {
   "cell_type": "code",
   "execution_count": null,
   "id": "0d3932d6-c747-45e0-9d55-dce14f602d3f",
   "metadata": {},
   "outputs": [],
   "source": [
    "# Take input from the user\n",
    "score = float(input(\"Enter the student's score: \"))\n",
    "\n",
    "# Determine the letter grade based on score ranges\n",
    "if score >= 90:\n",
    "    grade = \"A\"\n",
    "elif score >= 80:\n",
    "    grade = \"B\"\n",
    "elif score >= 70:\n",
    "    grade = \"C\"\n",
    "elif score >= 60:\n",
    "    grade = \"D\"\n",
    "else:\n",
    "    grade = \"F\"\n",
    "\n",
    "# Print the corresponding letter grade\n",
    "print(\"The student's letter grade is:\", grade)\n"
   ]
  },
  {
   "cell_type": "code",
   "execution_count": null,
   "id": "448a9dcb-4405-40a4-b42c-6c12446d1240",
   "metadata": {},
   "outputs": [],
   "source": []
  },
  {
   "cell_type": "code",
   "execution_count": null,
   "id": "2ee69da8-ef51-4e75-86c6-6b0a0b360e3d",
   "metadata": {},
   "outputs": [],
   "source": []
  },
  {
   "cell_type": "markdown",
   "id": "34a43e5d-ba58-417f-89e9-32c9141aafe2",
   "metadata": {},
   "source": [
    "**Explanation**\n",
    "\n",
    "- We start by taking input from the user using the `input()` function. We convert the input to a `float` data type because scores can have decimal points.\n",
    "- Using `if-else` statements, we compare the score against predefined ranges for different letter grades. If the score falls within a certain range, the corresponding letter grade is assigned to the grade variable.\n",
    "- If the score is 90 or above, the student gets an `\"A\"`. If it's between 80 and 89, they get a `\"B\"`. If it's between 70 and 79, they get a `\"C\"`. If it's between 60 and 69, they get a `\"D\"`. If the score is below 60, they get an `\"F\"`.\n",
    "- Finally, we print out the student's letter grade using the `print()` function."
   ]
  },
  {
   "cell_type": "code",
   "execution_count": null,
   "id": "d91829ce-f9c9-47fa-af5a-329d4198a898",
   "metadata": {},
   "outputs": [],
   "source": []
  },
  {
   "cell_type": "code",
   "execution_count": null,
   "id": "e0e4ee64-1c33-4ed6-a6fd-3c4706ff869f",
   "metadata": {},
   "outputs": [],
   "source": []
  },
  {
   "cell_type": "markdown",
   "id": "a5f3f67e-cf68-4fe1-8bef-8a0cc846dcb7",
   "metadata": {},
   "source": [
    "**2. Number Comparison**\n",
    "\n",
    "Write a Python script that prompts the user to **input two numbers**. The program should compare the two numbers and display a message indicating whether the first number is **greater than**, **less than**, or **equal to** the second number."
   ]
  },
  {
   "cell_type": "code",
   "execution_count": null,
   "id": "9243d2f2-21d9-4a5d-ba4f-78e7ef3515bd",
   "metadata": {},
   "outputs": [],
   "source": [
    "# Take input from the user for two numbers\n",
    "num1 = float(input(\"Enter the first number: \"))\n",
    "num2 = float(input(\"Enter the second number: \"))\n",
    "\n",
    "# Compare the numbers and display the result\n",
    "if num1 > num2:\n",
    "    result = \"greater than\"\n",
    "elif num1 < num2:\n",
    "    result = \"less than\"\n",
    "else:\n",
    "    result = \"equal to\"\n",
    "\n",
    "# Print the comparison result\n",
    "print(\"The first number is\", result, \"the second number.\")\n"
   ]
  },
  {
   "cell_type": "code",
   "execution_count": null,
   "id": "ffad5ce3-c5a0-4441-a1d8-9b8e38d6c4d4",
   "metadata": {},
   "outputs": [],
   "source": []
  },
  {
   "cell_type": "markdown",
   "id": "edb91978-a177-4d45-b5bc-9192676801c4",
   "metadata": {},
   "source": [
    "**Explanation**\n",
    "\n",
    "- We use the `input()` function to get two numbers as input from the user. The numbers are converted to `float` data types to allow for decimal values.\n",
    "- Using `if-else` statements, we compare the two numbers. If `num1` is greater than `num2`, we assign the message **\"greater than\"** to the result variable.\n",
    "- If `num1` is less than `num2`, we assign **\"less than\"**. Otherwise, if they're equal, we assign **\"equal to\"**.\n",
    "- Finally, we use the `print()` function to display the comparison result, showing whether the first number is greater than, less than, or equal to the second number."
   ]
  },
  {
   "cell_type": "markdown",
   "id": "d7556f23-3705-443a-9603-8df49334d32a",
   "metadata": {},
   "source": [
    "**3. Temperature Convertor**\n",
    "\n",
    "Write a Python program that allows the user to convert between `Celsius` and `Fahrenheit` temperatures. The program should prompt the user to input a temperature value and specify whether it's in `Celsius` or `Fahrenheit`. Based on the input, use if-else statements to perform the appropriate temperature conversion and display the converted temperature."
   ]
  },
  {
   "cell_type": "code",
   "execution_count": null,
   "id": "4e5f4e9d-94c4-4d30-b89f-24f4afa559e8",
   "metadata": {},
   "outputs": [],
   "source": [
    "# Prompt the user for input\n",
    "temperature = float(input(\"Enter the temperature: \"))\n",
    "unit = input(\"Is the temperature in Celsius or Fahrenheit? (C/F): \")\n",
    "\n",
    "# Perform temperature conversion based on user input\n",
    "if unit.lower() == \"c\":\n",
    "    fahrenheit = (temperature * 9/5) + 32\n",
    "    converted_unit = \"Fahrenheit\"\n",
    "elif unit.lower() == \"f\":\n",
    "    celsius = (temperature - 32) * 5/9\n",
    "    converted_unit = \"Celsius\"\n",
    "else:\n",
    "    print(\"Invalid input. Please specify 'C' or 'F'.\")\n",
    "\n",
    "# Display the converted temperature\n",
    "if unit.lower() == \"c\" or unit.lower() == \"f\":\n",
    "    print(f\"The temperature {temperature} {unit.upper()} is {round(fahrenheit, 2)} {converted_unit}.\")\n"
   ]
  },
  {
   "cell_type": "code",
   "execution_count": null,
   "id": "0c83c44a-4610-4dfa-bdf5-e52af3f52ac7",
   "metadata": {},
   "outputs": [],
   "source": []
  },
  {
   "cell_type": "code",
   "execution_count": null,
   "id": "2e30648e-a1f2-4b13-ac48-758bf34196a4",
   "metadata": {},
   "outputs": [],
   "source": []
  },
  {
   "cell_type": "code",
   "execution_count": null,
   "id": "e474f5d9-645e-43c5-bc18-d650c1e2a872",
   "metadata": {},
   "outputs": [],
   "source": []
  },
  {
   "cell_type": "markdown",
   "id": "a6eb6e54-1b0a-4dfa-a5dc-f03980246b31",
   "metadata": {},
   "source": [
    "**Explanation**\n",
    "\n",
    "- The program starts by asking the user to input the temperature value and the unit of measurement (**Celsius or Fahrenheit**).\n",
    "- Using `if-else` statements, the program checks whether the **input unit is \"C\" (Celsius)** or **\"F\" (Fahrenheit)**. If it's **Celsius**, the program calculates the equivalent temperature in **Fahrenheit**. If it's **Fahrenheit**, the program calculates the equivalent temperature in **Celsius**.\n",
    "- The program then displays the converted temperature along with the original and converted units. If the user inputs an invalid unit, the program informs them to specify \"C\" or \"F\"."
   ]
  },
  {
   "cell_type": "markdown",
   "id": "bd0afd78-369d-49eb-801a-6524bf0d4fa1",
   "metadata": {},
   "source": [
    "**4. Simple Guessing Game**"
   ]
  },
  {
   "cell_type": "markdown",
   "id": "65bc3a26-b1fd-4bd1-a2d5-cb9a59cbe43c",
   "metadata": {},
   "source": [
    "Write a Python program for a guessing game. The program should generate a random number **between 1 and 10**, and the user has to guess the number. The program should provide feedback if the user's guess is **too high or too low**, and display a congratulatory message when they guess the correct number."
   ]
  },
  {
   "cell_type": "code",
   "execution_count": null,
   "id": "b9971a0d-7226-4cdd-8002-b5023842f024",
   "metadata": {},
   "outputs": [],
   "source": [
    "import random\n",
    "\n",
    "# Generate a random number between 1 and 10\n",
    "target_number = random.randint(1, 10)\n",
    "\n",
    "# Prompt the user for guesses\n",
    "guess = int(input(\"Guess a number between 1 and 10: \"))\n",
    "\n",
    "# Check the user's guess\n",
    "if guess == target_number:\n",
    "    print(\"Congratulations! You guessed the correct number.\")\n",
    "elif guess < target_number:\n",
    "    print(\"Too low! Try again.\")\n",
    "else:\n",
    "    print(\"Too high! Try again.\")\n"
   ]
  },
  {
   "cell_type": "code",
   "execution_count": null,
   "id": "e10ea25c-8c40-4b07-9500-312f694b5792",
   "metadata": {},
   "outputs": [],
   "source": []
  },
  {
   "cell_type": "code",
   "execution_count": null,
   "id": "9b54da25-a157-4130-b498-f6669421e758",
   "metadata": {},
   "outputs": [],
   "source": []
  },
  {
   "cell_type": "code",
   "execution_count": null,
   "id": "249f614d-836b-441b-903e-8839aaedc1ed",
   "metadata": {},
   "outputs": [],
   "source": []
  },
  {
   "cell_type": "markdown",
   "id": "7c7f705e-69bf-4d1c-971d-d6c49ae690c8",
   "metadata": {},
   "source": [
    "**Explanation:**\n",
    "\n",
    "- We begin by importing the `random` module, which allows us to generate random numbers.\n",
    "- The program generates a random number between 1 and 10 using the `randint()` function from the `random` module. This number is stored in `target_number`.\n",
    "- The user is prompted to input their guess using the `input()` function. We convert the input to an integer using `int()`.\n",
    "- Using `if-else` statements, the program checks the user's guess against the target_number. If the guess is correct, it displays a congratulatory message. If the guess is lower than the target number, it provides feedback that the guess is too low. If the guess is higher than the target number, it informs the user that the guess is too high."
   ]
  },
  {
   "cell_type": "markdown",
   "id": "7b9cf1fb-20e1-48d7-81ba-f92dc5e71193",
   "metadata": {},
   "source": [
    "**5. Voting Eligibility**\n",
    "\n",
    "Write a Python program that prompts the user to input their age. Determine whether they are eligible to vote (considering a voting age of 18) and display an appropriate message using `if-else` statements."
   ]
  },
  {
   "cell_type": "code",
   "execution_count": null,
   "id": "d30fc570-0ccb-44ab-9164-85c104a2085c",
   "metadata": {},
   "outputs": [],
   "source": [
    "# Take input from the user\n",
    "age = int(input(\"Enter your age: \"))\n",
    "\n",
    "# Determine voting eligibility and display message\n",
    "if age >= 18:\n",
    "    print(\"You are eligible to vote!\")\n",
    "else:\n",
    "    print(\"Sorry, you are not eligible to vote yet.\")\n"
   ]
  },
  {
   "cell_type": "markdown",
   "id": "b165eddc-85cb-457b-a399-613b08310ab9",
   "metadata": {},
   "source": [
    "- We use the `input()` function to take the user's age as input. The input is converted to an integer using `int()`.\n",
    "- The program uses an `if-else` statement to determine voting eligibility. If the user's age is 18 or older, the program displays the message **\"You are eligible to vote!\"**. If the age is below 18, the program displays **\"Sorry, you are not eligible to vote yet.\""
   ]
  }
 ],
 "metadata": {
  "kernelspec": {
   "display_name": "Python 3 (ipykernel)",
   "language": "python",
   "name": "python3"
  },
  "language_info": {
   "codemirror_mode": {
    "name": "ipython",
    "version": 3
   },
   "file_extension": ".py",
   "mimetype": "text/x-python",
   "name": "python",
   "nbconvert_exporter": "python",
   "pygments_lexer": "ipython3",
   "version": "3.10.7"
  }
 },
 "nbformat": 4,
 "nbformat_minor": 5
}
