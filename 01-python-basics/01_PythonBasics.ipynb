{
 "cells": [
  {
   "cell_type": "markdown",
   "id": "331d1752-5d92-46fd-81fc-0d90974810fe",
   "metadata": {},
   "source": [
    "## Table of Content \n",
    "\n",
    "- Print `Hello World` \n",
    "- What are Variables?\n",
    "- Basic Data Type\n",
    "  - `Numeric`\n",
    "  - `Boolean`\n",
    "  - `String`\n",
    "  - `None`"
   ]
  },
  {
   "cell_type": "markdown",
   "id": "316a5cf8-a384-4023-95a4-12954bf95536",
   "metadata": {},
   "source": [
    "### Hello World !"
   ]
  },
  {
   "cell_type": "code",
   "execution_count": null,
   "id": "a6fdf2b1-4427-4e83-8ec9-0f11dc57b539",
   "metadata": {},
   "outputs": [],
   "source": [
    "print(\"Hello World!\")"
   ]
  },
  {
   "cell_type": "markdown",
   "id": "833a67b3-af7f-43cf-a7f2-224c02e07b7d",
   "metadata": {},
   "source": [
    "### What are variables ?"
   ]
  },
  {
   "cell_type": "markdown",
   "id": "1037ff1f-4f96-4c0d-a0c5-9018406560df",
   "metadata": {},
   "source": [
    "Alright, let's dive into the world of variables in Python – it's like a digital treasure chest 📦🔒. Imagine you have a magical box that can hold different things. In Python, a variable is just like that box. Instead of a physical object, it holds information, like numbers, words, or anything you want to use in your program.\n",
    "\n",
    "Here's how it works: think of a variable as a name tag 🏷️ that you put on the box. The name tag helps you remember what's inside. For instance, if you have a box labeled \"age,\" you know it's for storing someone's age. If you want to put your age (let's say 14) inside the box, you'd write the code like this:"
   ]
  },
  {
   "cell_type": "code",
   "execution_count": null,
   "id": "e4756f9d-31a1-4dde-a0b6-ea44f1cc380e",
   "metadata": {},
   "outputs": [],
   "source": [
    "age = 14"
   ]
  },
  {
   "cell_type": "code",
   "execution_count": null,
   "id": "2bc773f8-b551-4a1b-b345-c30eccdd3d87",
   "metadata": {},
   "outputs": [],
   "source": [
    "age"
   ]
  },
  {
   "cell_type": "markdown",
   "id": "41bde03d-ad49-4ee5-8a56-e893d2d499d2",
   "metadata": {},
   "source": [
    "See how the name \"age\" holds the number 14? Now, whenever you use the name \"age\" in your program, Python knows you're talking about the number 14. It's like magic – you can change what's inside the box, and the name still knows what's there.\n",
    "\n",
    "Variables are super handy when you want to reuse information. Let's say you're planning a party 🥳. You can use variables to keep track of things like the number of guests, the party theme, or even the date. Instead of typing the same numbers or words again and again, you can just use the variable names.\n",
    "\n",
    "So, next time you hear about variables in Python, remember it's like labeling your magical treasure boxes. You give them names, and they hold valuable information that makes your programs work like enchanting spells. 🪄✨"
   ]
  },
  {
   "cell_type": "markdown",
   "id": "0217b0fa-33b6-4937-aeff-21b386363615",
   "metadata": {},
   "source": [
    "### Data Types in Python"
   ]
  },
  {
   "cell_type": "markdown",
   "id": "18818f38-9984-4a6b-8294-02a1f6ad2e1e",
   "metadata": {},
   "source": [
    "As we delve deeper into Python's programming landscape, let's elucidate the concept of data types – pivotal elements that determine how information is stored, manipulated, and processed within the language. Think of data types as the bedrock upon which our programs are constructed, providing structure and clarity to the code's functionality."
   ]
  },
  {
   "cell_type": "markdown",
   "id": "011370c7-086f-4e4d-89fa-4dade140be48",
   "metadata": {},
   "source": [
    "#### 1. Numeric Data Type - Facilitating Mathematical Conquests 🧮"
   ]
  },
  {
   "cell_type": "markdown",
   "id": "7a2b31e4-0a93-4cf0-9670-4844f1b18c6d",
   "metadata": {},
   "source": [
    "Consider the numeric data type as a versatile toolbox brimming with mathematical instruments. Comparable to a mathematician's toolkit, this data type equips us with the means to perform arithmetic operations, from basic calculations to complex mathematical analyses. Just as numbers underpin many real-world phenomena, the numeric data type is indispensable for quantitative computations in Python."
   ]
  },
  {
   "cell_type": "code",
   "execution_count": null,
   "id": "a7aa38e7-85d4-45b2-b4d5-dcd523a13c58",
   "metadata": {},
   "outputs": [],
   "source": [
    "age1 = 15\n",
    "age2 = 3\n",
    "\n",
    "age = age1 + age2"
   ]
  },
  {
   "cell_type": "code",
   "execution_count": null,
   "id": "84fa67d3-a7b5-4eb2-8915-183a15128c04",
   "metadata": {},
   "outputs": [],
   "source": [
    "age"
   ]
  },
  {
   "cell_type": "code",
   "execution_count": null,
   "id": "560059ec-e931-40c8-9f76-cfaa6ad6e3ac",
   "metadata": {},
   "outputs": [],
   "source": [
    "type(age)"
   ]
  },
  {
   "cell_type": "code",
   "execution_count": null,
   "id": "1096d937-6fa4-4f47-8779-3ec8fecaf634",
   "metadata": {},
   "outputs": [],
   "source": [
    "price = 15.2\n",
    "discount = 2\n",
    "\n",
    "final_price = price - discount"
   ]
  },
  {
   "cell_type": "code",
   "execution_count": null,
   "id": "4682417b-e05c-482e-be6b-53473dbbc87a",
   "metadata": {},
   "outputs": [],
   "source": [
    "final_price"
   ]
  },
  {
   "cell_type": "code",
   "execution_count": null,
   "id": "b49208a7-a926-443a-88be-9ab11bc58a55",
   "metadata": {},
   "outputs": [],
   "source": [
    "type(final_price)"
   ]
  },
  {
   "cell_type": "code",
   "execution_count": null,
   "id": "916a1baa-a89e-48be-ac22-eb7ca968db61",
   "metadata": {},
   "outputs": [],
   "source": [
    "z = 5 + 2j\n",
    "\n",
    "w = complex(3, -1)"
   ]
  },
  {
   "cell_type": "code",
   "execution_count": null,
   "id": "bd88bbcf-7227-4b73-b645-7c5548c7211c",
   "metadata": {},
   "outputs": [],
   "source": [
    "w"
   ]
  },
  {
   "cell_type": "code",
   "execution_count": null,
   "id": "b975bbc0-3247-447e-9f03-d6eee19fc566",
   "metadata": {},
   "outputs": [],
   "source": [
    "type(w)"
   ]
  },
  {
   "cell_type": "markdown",
   "id": "3adbcf2b-1182-4845-924a-6e8602b8f4e0",
   "metadata": {},
   "source": [
    "#### 2. Boolean Data Type - Harnessing Logic and Decisions 🕵️‍♂️"
   ]
  },
  {
   "cell_type": "markdown",
   "id": "ac654839-5c95-4e0e-9265-f6bf2d41754a",
   "metadata": {},
   "source": [
    "Visualize the boolean data type as a compass that guides decision-making within our programs. Drawing upon binary logic, this data type accommodates two states: True and False. Like a compass needle pointing north or south, booleans help us navigate intricate decision pathways, facilitating conditional operations that determine the program's course of action."
   ]
  },
  {
   "cell_type": "code",
   "execution_count": null,
   "id": "4a81cd3e-0d24-409a-95c4-984b59cb6f00",
   "metadata": {},
   "outputs": [],
   "source": [
    "True"
   ]
  },
  {
   "cell_type": "code",
   "execution_count": null,
   "id": "df656843-4abc-4fff-927b-df2b0c07c098",
   "metadata": {},
   "outputs": [],
   "source": [
    "False"
   ]
  },
  {
   "cell_type": "code",
   "execution_count": null,
   "id": "88916238-cf96-4f6e-a33c-55902abb04e8",
   "metadata": {},
   "outputs": [],
   "source": []
  },
  {
   "cell_type": "code",
   "execution_count": null,
   "id": "4f0b4a1f-4a21-48b0-a6be-b6daf7739f12",
   "metadata": {},
   "outputs": [],
   "source": []
  },
  {
   "cell_type": "code",
   "execution_count": null,
   "id": "93c78be9-4825-402c-af25-10bfe271c4ee",
   "metadata": {},
   "outputs": [],
   "source": []
  },
  {
   "cell_type": "code",
   "execution_count": null,
   "id": "790f6d36-473e-407e-a35f-ae9f2231a259",
   "metadata": {},
   "outputs": [],
   "source": []
  },
  {
   "cell_type": "code",
   "execution_count": null,
   "id": "4493b404-1e04-4eea-80d9-fda6784671c1",
   "metadata": {},
   "outputs": [],
   "source": []
  },
  {
   "cell_type": "code",
   "execution_count": null,
   "id": "1bb45e87-db37-49f3-bcf2-e4d2de0f4465",
   "metadata": {},
   "outputs": [],
   "source": []
  },
  {
   "cell_type": "code",
   "execution_count": null,
   "id": "90d222e0-25f7-407c-bdf2-f9365e77dd95",
   "metadata": {},
   "outputs": [],
   "source": []
  },
  {
   "cell_type": "code",
   "execution_count": null,
   "id": "9b076c0a-d93b-4c60-a046-859651a6b45b",
   "metadata": {},
   "outputs": [],
   "source": []
  },
  {
   "cell_type": "code",
   "execution_count": null,
   "id": "eba3b4de-14fa-41c8-9828-3aa78e42926e",
   "metadata": {},
   "outputs": [],
   "source": []
  },
  {
   "cell_type": "markdown",
   "id": "8e7855d4-ed41-41cc-9591-7d3c0240dbe2",
   "metadata": {},
   "source": [
    "#### 3. String Data Type - Enabling Textual Manipulation 📝"
   ]
  },
  {
   "cell_type": "markdown",
   "id": "e8fb3d68-5948-4198-82df-2af2e05f641d",
   "metadata": {},
   "source": [
    "Strings are the textual channels that allow us to communicate with the computer in human-readable language. Similar to the tools in a linguist's arsenal, the string data type facilitates the storage, manipulation, and representation of textual information. From handling user inputs to generating formatted outputs, strings are integral to crafting meaningful interactions within Python programs."
   ]
  },
  {
   "cell_type": "code",
   "execution_count": null,
   "id": "8c6bc3a9-e101-4018-9caa-edfd01a7c724",
   "metadata": {},
   "outputs": [],
   "source": [
    "name = \"Sam\""
   ]
  },
  {
   "cell_type": "code",
   "execution_count": null,
   "id": "3535de62-ff4e-4164-b89a-cdcd396f00e8",
   "metadata": {},
   "outputs": [],
   "source": [
    "type(name)"
   ]
  },
  {
   "cell_type": "code",
   "execution_count": null,
   "id": "eba2ad0e-bfe6-4a46-86d7-d3733e3a92d9",
   "metadata": {},
   "outputs": [],
   "source": []
  },
  {
   "cell_type": "code",
   "execution_count": null,
   "id": "b7ee7b4c-0241-4fc1-9f8a-3a56db824f07",
   "metadata": {},
   "outputs": [],
   "source": []
  },
  {
   "cell_type": "code",
   "execution_count": null,
   "id": "0e191ba3-0dba-4ca2-b658-a557b3aa4e71",
   "metadata": {},
   "outputs": [],
   "source": []
  },
  {
   "cell_type": "code",
   "execution_count": null,
   "id": "a264229a-19ee-48eb-9c84-d4e49b53e071",
   "metadata": {},
   "outputs": [],
   "source": []
  },
  {
   "cell_type": "code",
   "execution_count": null,
   "id": "8d2134fd-cd31-4589-8cea-a2adaec4873b",
   "metadata": {},
   "outputs": [],
   "source": []
  },
  {
   "cell_type": "markdown",
   "id": "3063438e-49c5-4cbc-9538-d6f3224d98c7",
   "metadata": {},
   "source": [
    "#### 4. None Type - Conveying Indeterminate Significance 🎩"
   ]
  },
  {
   "cell_type": "markdown",
   "id": "483a586f-3840-4884-bb3a-09101f288f11",
   "metadata": {},
   "source": [
    "Imagine a placeholder within our code that denotes the absence of a definitive value – this is the role of the None type. Similar to a blank canvas awaiting artistic expression, the None type signifies an undefined or undetermined state. Employed when an answer is yet to be ascertained, it embodies a placeholder that acknowledges the presence of data but acknowledges its uncertainty."
   ]
  },
  {
   "cell_type": "code",
   "execution_count": null,
   "id": "7c32ce93-6adf-4d0d-894f-3bf9c3989b1f",
   "metadata": {},
   "outputs": [],
   "source": [
    "result = None"
   ]
  },
  {
   "cell_type": "code",
   "execution_count": null,
   "id": "d09ef38a-90cf-45ce-affa-c48b14456dff",
   "metadata": {},
   "outputs": [],
   "source": [
    "result"
   ]
  },
  {
   "cell_type": "code",
   "execution_count": null,
   "id": "ebfe1215-7ed3-40b6-b30b-c054b03d3017",
   "metadata": {},
   "outputs": [],
   "source": []
  },
  {
   "cell_type": "code",
   "execution_count": null,
   "id": "3e14abbd-f333-4fa6-8da2-ec72fe61671a",
   "metadata": {},
   "outputs": [],
   "source": []
  },
  {
   "cell_type": "code",
   "execution_count": null,
   "id": "87e401e6-5b85-431e-9a51-db3c55e6a601",
   "metadata": {},
   "outputs": [],
   "source": []
  },
  {
   "cell_type": "code",
   "execution_count": null,
   "id": "6178c55f-8b9a-4796-9e32-4490854bbab0",
   "metadata": {},
   "outputs": [],
   "source": []
  },
  {
   "cell_type": "code",
   "execution_count": null,
   "id": "f5dc9c67-c248-49d5-a146-327fb96d64be",
   "metadata": {},
   "outputs": [],
   "source": []
  },
  {
   "cell_type": "code",
   "execution_count": null,
   "id": "235b3ec6-efc4-4ba7-b8d4-9c167aeb0a42",
   "metadata": {},
   "outputs": [],
   "source": []
  }
 ],
 "metadata": {
  "kernelspec": {
   "display_name": "Python 3 (ipykernel)",
   "language": "python",
   "name": "python3"
  },
  "language_info": {
   "codemirror_mode": {
    "name": "ipython",
    "version": 3
   },
   "file_extension": ".py",
   "mimetype": "text/x-python",
   "name": "python",
   "nbconvert_exporter": "python",
   "pygments_lexer": "ipython3",
   "version": "3.10.7"
  }
 },
 "nbformat": 4,
 "nbformat_minor": 5
}
